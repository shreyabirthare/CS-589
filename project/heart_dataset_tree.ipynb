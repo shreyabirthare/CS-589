{
 "cells": [
  {
   "cell_type": "code",
   "execution_count": null,
   "metadata": {},
   "outputs": [],
   "source": [
    "import pandas as pd\n",
    "import numpy as np\n",
    "from functions import *"
   ]
  },
  {
   "cell_type": "code",
   "execution_count": null,
   "metadata": {},
   "outputs": [],
   "source": [
    "heart_df = pd.read_csv('datasets/heart_disease_uci.csv', sep=',')  \n",
    "heart_df.head() "
   ]
  },
  {
   "cell_type": "code",
   "execution_count": null,
   "metadata": {},
   "outputs": [],
   "source": [
    "heart_df.rename(columns={'num': 'target'}, inplace=True)\n",
    "column = heart_df.pop('target')\n",
    "heart_df.insert(len(heart_df.columns), 'target', column)\n",
    "heart_df.drop(['id'], axis=1, inplace=True)"
   ]
  },
  {
   "cell_type": "code",
   "execution_count": null,
   "metadata": {},
   "outputs": [],
   "source": [
    "heart_df.columns"
   ]
  },
  {
   "cell_type": "code",
   "execution_count": null,
   "metadata": {},
   "outputs": [],
   "source": [
    "heart_df.describe()"
   ]
  },
  {
   "cell_type": "code",
   "execution_count": null,
   "metadata": {},
   "outputs": [],
   "source": [
    "heart_df['ca'].unique()"
   ]
  },
  {
   "cell_type": "code",
   "execution_count": null,
   "metadata": {},
   "outputs": [],
   "source": [
    "heart_df.dropna(inplace=True)"
   ]
  },
  {
   "cell_type": "code",
   "execution_count": null,
   "metadata": {},
   "outputs": [],
   "source": [
    "type_of_col = {\n",
    "    'age': 1,\n",
    "    'sex': 0,\n",
    "    'dataset': 0,\n",
    "    'cp': 0,\n",
    "    'trestbps': 1,\n",
    "    'chol': 1,\n",
    "    'fbs': 0,\n",
    "    'restecg': 0,\n",
    "    'thalch': 1,\n",
    "    'exang': 0,\n",
    "    'oldpeak': 1,\n",
    "    'slope': 0,\n",
    "    'ca': 0,\n",
    "    'thal': 0,\n",
    "    'target': 0\n",
    "}"
   ]
  },
  {
   "cell_type": "code",
   "execution_count": null,
   "metadata": {},
   "outputs": [],
   "source": [
    "categories = (heart_df['target'].unique()).tolist()\n",
    "\n",
    "smaller_dfs = distribute_records(heart_df, 10)"
   ]
  },
  {
   "cell_type": "markdown",
   "metadata": {},
   "source": [
    "### hy1 75, 50, infor"
   ]
  },
  {
   "cell_type": "code",
   "execution_count": null,
   "metadata": {},
   "outputs": [],
   "source": [
    "results_df, average_performance_df = perform(smaller_dfs, categories, type_of_col, 75, 50, 'info') \n",
    "average_performance_df"
   ]
  },
  {
   "cell_type": "code",
   "execution_count": null,
   "metadata": {},
   "outputs": [],
   "source": [
    "plt.figure(figsize=(8, 6))\n",
    "\n",
    "plt.plot(average_performance_df['Trees'], average_performance_df['Accuracy'], marker='o', linestyle='-')\n",
    "\n",
    "plt.xlabel('Number of Trees (ntrees)')\n",
    "plt.ylabel('Accuracy (%)')\n",
    "plt.title('Accuracy as a Function of Number of Trees')\n",
    "plt.grid(True)\n",
    "plt.show()"
   ]
  },
  {
   "cell_type": "code",
   "execution_count": null,
   "metadata": {},
   "outputs": [],
   "source": [
    "plt.figure(figsize=(8, 6))\n",
    "\n",
    "plt.plot(average_performance_df['Trees'], average_performance_df['F1 Score'], marker='o', linestyle='-')\n",
    "\n",
    "plt.xlabel('Number of Trees (ntrees)')\n",
    "plt.ylabel('F1 Score')\n",
    "plt.title('F1 Score as a Function of Number of Trees')\n",
    "plt.grid(True)\n",
    "plt.show()"
   ]
  },
  {
   "cell_type": "markdown",
   "metadata": {},
   "source": [
    "### hy3 95,5, info"
   ]
  },
  {
   "cell_type": "code",
   "execution_count": null,
   "metadata": {},
   "outputs": [],
   "source": [
    "results_df, average_performance_df = perform(smaller_dfs, categories, type_of_col, 95, 5, 'info') # threshold = 85%, min_instance =1\n",
    "average_performance_df"
   ]
  },
  {
   "cell_type": "code",
   "execution_count": null,
   "metadata": {},
   "outputs": [],
   "source": [
    "plt.figure(figsize=(8, 6))\n",
    "\n",
    "plt.plot(average_performance_df['Trees'], average_performance_df['Accuracy'], marker='o', linestyle='-')\n",
    "\n",
    "plt.xlabel('Number of Trees (ntrees)')\n",
    "plt.ylabel('Accuracy (%)')\n",
    "plt.title('Accuracy as a Function of Number of Trees')\n",
    "plt.grid(True)\n",
    "plt.show()"
   ]
  },
  {
   "cell_type": "code",
   "execution_count": null,
   "metadata": {},
   "outputs": [],
   "source": [
    "plt.figure(figsize=(8, 6))\n",
    "\n",
    "plt.plot(average_performance_df['Trees'], average_performance_df['F1 Score'], marker='o', linestyle='-')\n",
    "\n",
    "plt.xlabel('Number of Trees (ntrees)')\n",
    "plt.ylabel('F1 Score')\n",
    "plt.title('F1 Score as a Function of Number of Trees')\n",
    "plt.grid(True)\n",
    "plt.show()"
   ]
  },
  {
   "cell_type": "markdown",
   "metadata": {},
   "source": [
    "### hy4 95, 10, gini"
   ]
  },
  {
   "cell_type": "code",
   "execution_count": null,
   "metadata": {},
   "outputs": [],
   "source": [
    "results_df, average_performance_df = perform(smaller_dfs, categories, type_of_col, 95, 10, 'gini') # threshold = 85%, min_instance =1\n",
    "average_performance_df"
   ]
  },
  {
   "cell_type": "code",
   "execution_count": null,
   "metadata": {},
   "outputs": [],
   "source": [
    "plt.figure(figsize=(8, 6))\n",
    "\n",
    "plt.plot(average_performance_df['Trees'], average_performance_df['Accuracy'], marker='o', linestyle='-')\n",
    "\n",
    "plt.xlabel('Number of Trees (ntrees)')\n",
    "plt.ylabel('Accuracy (%)')\n",
    "plt.title('Accuracy as a Function of Number of Trees')\n",
    "plt.grid(True)\n",
    "plt.show()"
   ]
  },
  {
   "cell_type": "code",
   "execution_count": null,
   "metadata": {},
   "outputs": [],
   "source": [
    "plt.figure(figsize=(8, 6))\n",
    "\n",
    "plt.plot(average_performance_df['Trees'], average_performance_df['F1 Score'], marker='o', linestyle='-')\n",
    "\n",
    "plt.xlabel('Number of Trees (ntrees)')\n",
    "plt.ylabel('F1 Score')\n",
    "plt.title('F1 Score as a Function of Number of Trees')\n",
    "plt.grid(True)\n",
    "plt.show()"
   ]
  }
 ],
 "metadata": {
  "kernelspec": {
   "display_name": "Python 3",
   "language": "python",
   "name": "python3"
  },
  "language_info": {
   "codemirror_mode": {
    "name": "ipython",
    "version": 3
   },
   "file_extension": ".py",
   "mimetype": "text/x-python",
   "name": "python",
   "nbconvert_exporter": "python",
   "pygments_lexer": "ipython3",
   "version": "3.11.7"
  }
 },
 "nbformat": 4,
 "nbformat_minor": 2
}
