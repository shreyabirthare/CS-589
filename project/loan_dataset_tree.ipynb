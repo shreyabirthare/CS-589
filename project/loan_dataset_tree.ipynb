{
 "cells": [
  {
   "cell_type": "code",
   "execution_count": null,
   "metadata": {},
   "outputs": [],
   "source": [
    "import pandas as pd\n",
    "import numpy as np\n",
    "from functions import *"
   ]
  },
  {
   "cell_type": "code",
   "execution_count": null,
   "metadata": {},
   "outputs": [],
   "source": [
    "loan_df = pd.read_csv('datasets/loan.csv', sep=',')  # 8 categorical attributes, 4 numerical attributes, and a Loan ID attribute Loan_Status - target\n",
    "loan_df.head() \n",
    "\n",
    "loan_df.rename(columns={'Loan_Status': 'target'}, inplace=True)\n",
    "column = loan_df.pop('target')\n",
    "loan_df.insert(len(loan_df.columns), 'target', column)\n",
    "loan_df.drop(['Loan_ID'], axis=1, inplace=True)"
   ]
  },
  {
   "cell_type": "code",
   "execution_count": null,
   "metadata": {},
   "outputs": [],
   "source": [
    "type_of_col = {\n",
    "    'Gender': 0,\n",
    "    'Married': 0,\n",
    "    'Dependents': 0,\n",
    "    'Education': 0,\n",
    "    'Self_Employed': 0,\n",
    "    'ApplicantIncome': 1,\n",
    "    'CoapplicantIncome': 1, \n",
    "    'LoanAmount': 1,\n",
    "    'Loan_Amount_Term': 1,\n",
    "    'Credit_History': 0,\n",
    "    'Property_Area': 0, \n",
    "}"
   ]
  },
  {
   "cell_type": "code",
   "execution_count": null,
   "metadata": {},
   "outputs": [],
   "source": [
    "missing_values = loan_df.isnull().sum()\n",
    "print(missing_values)"
   ]
  },
  {
   "cell_type": "code",
   "execution_count": null,
   "metadata": {},
   "outputs": [],
   "source": [
    "categories = (loan_df['target'].unique()).tolist()\n",
    "\n",
    "smaller_dfs = distribute_records(loan_df, 10)"
   ]
  },
  {
   "cell_type": "code",
   "execution_count": null,
   "metadata": {},
   "outputs": [],
   "source": [
    "loan_df"
   ]
  },
  {
   "cell_type": "markdown",
   "metadata": {},
   "source": [
    "## Hyperparams: \n",
    "1. 75% threshold 50 min_instances information_gain\n",
    "2. 85% threshold 20 min_instances information_gain\n",
    "3. 95% threshold 5 min_instances information_gain"
   ]
  },
  {
   "cell_type": "markdown",
   "metadata": {},
   "source": [
    "### Hyperparams - 75% threshold 50 min_instances information gain "
   ]
  },
  {
   "cell_type": "code",
   "execution_count": null,
   "metadata": {},
   "outputs": [],
   "source": [
    "results_df, average_performance_df = perform(smaller_dfs, categories, type_of_col, 75, 50, 'info') \n",
    "average_performance_df"
   ]
  },
  {
   "cell_type": "code",
   "execution_count": null,
   "metadata": {},
   "outputs": [],
   "source": [
    "plt.figure(figsize=(8, 6))\n",
    "\n",
    "plt.plot(average_performance_df['Trees'], average_performance_df['Accuracy'], marker='o', linestyle='-')\n",
    "\n",
    "plt.xlabel('Number of Trees (ntrees)')\n",
    "plt.ylabel('Accuracy (%)')\n",
    "plt.title('Accuracy as a Function of Number of Trees')\n",
    "plt.grid(True)\n",
    "plt.show()"
   ]
  },
  {
   "cell_type": "code",
   "execution_count": null,
   "metadata": {},
   "outputs": [],
   "source": [
    "plt.figure(figsize=(8, 6))\n",
    "\n",
    "plt.plot(average_performance_df['Trees'], average_performance_df['F1 Score'], marker='o', linestyle='-')\n",
    "\n",
    "plt.xlabel('Number of Trees (ntrees)')\n",
    "plt.ylabel('F1 Score')\n",
    "plt.title('F1 Score as a Function of Number of Trees')\n",
    "plt.grid(True)\n",
    "plt.show()"
   ]
  },
  {
   "cell_type": "markdown",
   "metadata": {},
   "source": [
    "### Hyperparams - 85% threshold 20 min_instances information gain "
   ]
  },
  {
   "cell_type": "code",
   "execution_count": null,
   "metadata": {},
   "outputs": [],
   "source": [
    "results_df, average_performance_df = perform(smaller_dfs, categories, type_of_col, 85, 20, 'info')\n",
    "average_performance_df"
   ]
  },
  {
   "cell_type": "code",
   "execution_count": null,
   "metadata": {},
   "outputs": [],
   "source": [
    "plt.figure(figsize=(8, 6))\n",
    "\n",
    "plt.plot(average_performance_df['Trees'], average_performance_df['Accuracy'], marker='o', linestyle='-')\n",
    "\n",
    "plt.xlabel('Number of Trees (ntrees)')\n",
    "plt.ylabel('Accuracy (%)')\n",
    "plt.title('Accuracy as a Function of Number of Trees')\n",
    "plt.grid(True)\n",
    "plt.show()"
   ]
  },
  {
   "cell_type": "code",
   "execution_count": null,
   "metadata": {},
   "outputs": [],
   "source": [
    "plt.figure(figsize=(8, 6))\n",
    "\n",
    "plt.plot(average_performance_df['Trees'], average_performance_df['F1 Score'], marker='o', linestyle='-')\n",
    "\n",
    "plt.xlabel('Number of Trees (ntrees)')\n",
    "plt.ylabel('F1 Score')\n",
    "plt.title('F1 Score as a Function of Number of Trees')\n",
    "plt.grid(True)\n",
    "plt.show()"
   ]
  },
  {
   "cell_type": "markdown",
   "metadata": {},
   "source": [
    "### Hyperparams - 95% threshold 5 min_instances information gain "
   ]
  },
  {
   "cell_type": "code",
   "execution_count": null,
   "metadata": {},
   "outputs": [],
   "source": [
    "results_df, average_performance_df = perform(smaller_dfs, categories, type_of_col, 95, 5, 'info') # threshold = 85%, min_instance =1\n",
    "average_performance_df"
   ]
  },
  {
   "cell_type": "code",
   "execution_count": null,
   "metadata": {},
   "outputs": [],
   "source": [
    "plt.figure(figsize=(8, 6))\n",
    "\n",
    "plt.plot(average_performance_df['Trees'], average_performance_df['Accuracy'], marker='o', linestyle='-')\n",
    "\n",
    "plt.xlabel('Number of Trees (ntrees)')\n",
    "plt.ylabel('Accuracy (%)')\n",
    "plt.title('Accuracy as a Function of Number of Trees')\n",
    "plt.grid(True)\n",
    "plt.show()"
   ]
  },
  {
   "cell_type": "code",
   "execution_count": null,
   "metadata": {},
   "outputs": [],
   "source": [
    "plt.figure(figsize=(8, 6))\n",
    "\n",
    "plt.plot(average_performance_df['Trees'], average_performance_df['F1 Score'], marker='o', linestyle='-')\n",
    "\n",
    "plt.xlabel('Number of Trees (ntrees)')\n",
    "plt.ylabel('F1 Score')\n",
    "plt.title('F1 Score as a Function of Number of Trees')\n",
    "plt.grid(True)\n",
    "plt.show()"
   ]
  }
 ],
 "metadata": {
  "kernelspec": {
   "display_name": "Python 3",
   "language": "python",
   "name": "python3"
  },
  "language_info": {
   "codemirror_mode": {
    "name": "ipython",
    "version": 3
   },
   "file_extension": ".py",
   "mimetype": "text/x-python",
   "name": "python",
   "nbconvert_exporter": "python",
   "pygments_lexer": "ipython3",
   "version": "3.11.7"
  }
 },
 "nbformat": 4,
 "nbformat_minor": 2
}
