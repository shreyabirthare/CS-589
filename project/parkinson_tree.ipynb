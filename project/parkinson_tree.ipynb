{
 "cells": [
  {
   "cell_type": "code",
   "execution_count": null,
   "metadata": {},
   "outputs": [],
   "source": [
    "import pandas as pd\n",
    "import numpy as np\n",
    "from functions import *"
   ]
  },
  {
   "cell_type": "code",
   "execution_count": null,
   "metadata": {},
   "outputs": [],
   "source": [
    "parki_df = pd.read_csv('datasets/parkinsons.csv', sep=',')  # 22 numerical attributes, diagnosis - target\n",
    "parki_df.head() "
   ]
  },
  {
   "cell_type": "code",
   "execution_count": null,
   "metadata": {},
   "outputs": [],
   "source": [
    "parki_df.rename(columns={'Diagnosis': 'target'}, inplace=True)\n",
    "column = parki_df.pop('target')\n",
    "parki_df.insert(len(parki_df.columns), 'target', column)"
   ]
  },
  {
   "cell_type": "code",
   "execution_count": null,
   "metadata": {},
   "outputs": [],
   "source": [
    "missing_values = parki_df.isnull().sum()\n",
    "print(missing_values)"
   ]
  },
  {
   "cell_type": "code",
   "execution_count": null,
   "metadata": {},
   "outputs": [],
   "source": [
    "to_normalize = (parki_df.columns).to_list()\n",
    "to_normalize.remove('target')\n",
    "normalised_df = normalise(parki_df, to_normalize)\n",
    "normalised_df.head()"
   ]
  },
  {
   "cell_type": "code",
   "execution_count": null,
   "metadata": {},
   "outputs": [],
   "source": [
    "type_of_col = {\n",
    "    'MDVP:Fo(Hz)': 1,\n",
    "    'MDVP:Fhi(Hz)': 1,\n",
    "    'MDVP:Flo(Hz)': 1,\n",
    "    'MDVP:Jitter(%)': 1,\n",
    "    'MDVP:Jitter(Abs)': 1,\n",
    "    'MDVP:RAP': 1,\n",
    "    'MDVP:PPQ': 1,\n",
    "    'Jitter:DDP': 1,\n",
    "    'MDVP:Shimmer': 1,\n",
    "    'MDVP:Shimmer(dB)': 1,\n",
    "    'Shimmer:APQ3': 1,\n",
    "    'Shimmer:APQ5': 1,\n",
    "    'MDVP:APQ': 1,\n",
    "    'Shimmer:DDA': 1,\n",
    "    'NHR': 1,\n",
    "    'HNR': 1,\n",
    "    'RPDE': 1,\n",
    "    'DFA': 1,\n",
    "    'spread1': 1,\n",
    "    'spread2': 1,\n",
    "    'D2': 1,\n",
    "    'PPE': 1\n",
    "}"
   ]
  },
  {
   "cell_type": "code",
   "execution_count": null,
   "metadata": {},
   "outputs": [],
   "source": [
    "categories = (normalised_df['target'].unique()).tolist()\n",
    "\n",
    "smaller_dfs = distribute_records(normalised_df, 10)"
   ]
  },
  {
   "cell_type": "markdown",
   "metadata": {},
   "source": [
    "## Hyperparams: \n",
    "1. 85% threshold 25 min_instances information_gain\n",
    "2. 95% threshold 15 min_instances gini\n",
    "3. 95% threshold 15 min_instances information_gain"
   ]
  },
  {
   "cell_type": "markdown",
   "metadata": {},
   "source": [
    "### Hyperparameters - 85% threshold 25 min instances "
   ]
  },
  {
   "cell_type": "code",
   "execution_count": null,
   "metadata": {},
   "outputs": [],
   "source": [
    "results_df, average_performance_df = perform(smaller_dfs, categories, type_of_col, 85, 25, 'info') # threshold = 85%, min_instance =1\n",
    "average_performance_df"
   ]
  },
  {
   "cell_type": "code",
   "execution_count": null,
   "metadata": {},
   "outputs": [],
   "source": [
    "plt.figure(figsize=(8, 6))\n",
    "\n",
    "plt.plot(average_performance_df['Trees'], average_performance_df['Accuracy'], marker='o', linestyle='-')\n",
    "\n",
    "plt.xlabel('Number of Trees (ntrees)')\n",
    "plt.ylabel('Accuracy (%)')\n",
    "plt.title('Accuracy as a Function of Number of Trees')\n",
    "plt.grid(True)\n",
    "plt.show()"
   ]
  },
  {
   "cell_type": "code",
   "execution_count": null,
   "metadata": {},
   "outputs": [],
   "source": [
    "plt.figure(figsize=(8, 6))\n",
    "\n",
    "plt.plot(average_performance_df['Trees'], average_performance_df['F1 Score'], marker='o', linestyle='-')\n",
    "\n",
    "plt.xlabel('Number of Trees (ntrees)')\n",
    "plt.ylabel('F1 Score')\n",
    "plt.title('F1 Score as a Function of Number of Trees')\n",
    "plt.grid(True)\n",
    "plt.show()"
   ]
  },
  {
   "cell_type": "markdown",
   "metadata": {},
   "source": [
    "### Hyperparameters - 95% threshold 15 min instances gini"
   ]
  },
  {
   "cell_type": "code",
   "execution_count": null,
   "metadata": {},
   "outputs": [],
   "source": [
    "results_df, average_performance_df = perform(smaller_dfs, categories, type_of_col, 95, 15, 'gini') \n",
    "average_performance_df"
   ]
  },
  {
   "cell_type": "code",
   "execution_count": null,
   "metadata": {},
   "outputs": [],
   "source": [
    "plt.figure(figsize=(8, 6))\n",
    "\n",
    "plt.plot(average_performance_df['Trees'], average_performance_df['Accuracy'], marker='o', linestyle='-')\n",
    "\n",
    "plt.xlabel('Number of Trees (ntrees)')\n",
    "plt.ylabel('Accuracy (%)')\n",
    "plt.title('Accuracy as a Function of Number of Trees')\n",
    "plt.grid(True)\n",
    "plt.show()"
   ]
  },
  {
   "cell_type": "code",
   "execution_count": null,
   "metadata": {},
   "outputs": [],
   "source": [
    "plt.figure(figsize=(8, 6))\n",
    "\n",
    "plt.plot(average_performance_df['Trees'], average_performance_df['F1 Score'], marker='o', linestyle='-')\n",
    "\n",
    "plt.xlabel('Number of Trees (ntrees)')\n",
    "plt.ylabel('F1 Score')\n",
    "plt.title('F1 Score as a Function of Number of Trees')\n",
    "plt.grid(True)\n",
    "plt.show()"
   ]
  },
  {
   "cell_type": "markdown",
   "metadata": {},
   "source": [
    "### Hyperparameters - 95% threshold 15 min instances "
   ]
  },
  {
   "cell_type": "code",
   "execution_count": null,
   "metadata": {},
   "outputs": [],
   "source": [
    "results_df, average_performance_df = perform(smaller_dfs, categories, type_of_col, 95, 15, 'info') # threshold = 85%, min_instance =1\n",
    "average_performance_df"
   ]
  },
  {
   "cell_type": "code",
   "execution_count": null,
   "metadata": {},
   "outputs": [],
   "source": [
    "plt.figure(figsize=(8, 6))\n",
    "\n",
    "plt.plot(average_performance_df['Trees'], average_performance_df['Accuracy'], marker='o', linestyle='-')\n",
    "\n",
    "plt.xlabel('Number of Trees (ntrees)')\n",
    "plt.ylabel('Accuracy (%)')\n",
    "plt.title('Accuracy as a Function of Number of Trees')\n",
    "plt.grid(True)\n",
    "plt.show()"
   ]
  },
  {
   "cell_type": "code",
   "execution_count": null,
   "metadata": {},
   "outputs": [],
   "source": [
    "plt.figure(figsize=(8, 6))\n",
    "\n",
    "plt.plot(average_performance_df['Trees'], average_performance_df['F1 Score'], marker='o', linestyle='-')\n",
    "\n",
    "plt.xlabel('Number of Trees (ntrees)')\n",
    "plt.ylabel('F1 Score')\n",
    "plt.title('F1 Score as a Function of Number of Trees')\n",
    "plt.grid(True)\n",
    "plt.show()"
   ]
  }
 ],
 "metadata": {
  "kernelspec": {
   "display_name": "Python 3",
   "language": "python",
   "name": "python3"
  },
  "language_info": {
   "codemirror_mode": {
    "name": "ipython",
    "version": 3
   },
   "file_extension": ".py",
   "mimetype": "text/x-python",
   "name": "python",
   "nbconvert_exporter": "python",
   "pygments_lexer": "ipython3",
   "version": "3.11.7"
  }
 },
 "nbformat": 4,
 "nbformat_minor": 2
}
