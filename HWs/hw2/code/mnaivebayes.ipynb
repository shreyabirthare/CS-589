{
 "cells": [
  {
   "cell_type": "code",
   "execution_count": 201,
   "metadata": {},
   "outputs": [],
   "source": [
    "import numpy as np\n",
    "from utils import *\n",
    "import matplotlib.pyplot as plt"
   ]
  },
  {
   "cell_type": "code",
   "execution_count": 202,
   "metadata": {},
   "outputs": [],
   "source": [
    "def load_training_dataset(positive_instances_train, negative_instances_train):\n",
    "    pos_train, neg_train, vocab = load_training_set(positive_instances_train, negative_instances_train)\n",
    "    \n",
    "    return pos_train, neg_train, vocab"
   ]
  },
  {
   "cell_type": "code",
   "execution_count": 203,
   "metadata": {},
   "outputs": [],
   "source": [
    "def load_testing_dataset(positive_instances_test, negative_instances_test):\n",
    "    pos_test, neg_test = load_test_set(positive_instances_test, negative_instances_test)\n",
    "    \n",
    "    return pos_test, neg_test"
   ]
  },
  {
   "cell_type": "code",
   "execution_count": 204,
   "metadata": {},
   "outputs": [],
   "source": [
    "def calculate_class_priors(pos_train, neg_train):\n",
    "    total_docs = len(pos_train) + len(neg_train)\n",
    "    prior_pos = len(pos_train) / total_docs\n",
    "    prior_neg = len(neg_train) / total_docs\n",
    "    \n",
    "    return prior_pos, prior_neg"
   ]
  },
  {
   "cell_type": "code",
   "execution_count": 205,
   "metadata": {},
   "outputs": [],
   "source": [
    "def calculate_word_frequencies(pos_train, neg_train, vocab):\n",
    "    word_counts_pos = {word: 0 for word in vocab}\n",
    "    word_counts_neg = {word: 0 for word in vocab}\n",
    "    \n",
    "    for review in pos_train:\n",
    "        for word in review:\n",
    "            if word in vocab:\n",
    "                word_counts_pos[word] += 1\n",
    "            \n",
    "    for review in neg_train:\n",
    "        for word in review:\n",
    "            if word in vocab:\n",
    "                word_counts_neg[word] += 1\n",
    "                \n",
    "    return word_counts_pos, word_counts_neg"
   ]
  },
  {
   "cell_type": "code",
   "execution_count": 206,
   "metadata": {},
   "outputs": [],
   "source": [
    "def test_each_review_posterior(prior_pos, prior_neg, word_counts_pos, word_counts_neg, review, total_pos_word_freq, total_neg_word_freq, alpha):\n",
    "    test_pos_prob = prior_pos\n",
    "    test_neg_prob = prior_neg\n",
    "\n",
    "    for word in review:\n",
    "        test_pos_prob *= (word_counts_pos.get(word, 0) + alpha) / total_pos_word_freq\n",
    "        test_neg_prob *= (word_counts_neg.get(word, 0) + alpha) / total_neg_word_freq\n",
    "    \n",
    "    if(test_pos_prob > test_neg_prob):\n",
    "        return 1\n",
    "    elif(test_neg_prob > test_pos_prob):\n",
    "        return -1\n",
    "    else:\n",
    "        return 2 * np.random.randint(0, 2) - 1"
   ]
  },
  {
   "cell_type": "code",
   "execution_count": 207,
   "metadata": {},
   "outputs": [],
   "source": [
    "def test_each_review_log(prior_pos, prior_neg, word_counts_pos, word_counts_neg, review, total_pos_word_freq, total_neg_word_freq, alpha):\n",
    "    log_prob_pos = np.log(max(prior_pos, 1e-8))\n",
    "    log_prob_neg = np.log(max(prior_neg, 1e-8))\n",
    "    \n",
    "    for word in review:\n",
    "        prob_pos = (word_counts_pos.get(word, 0) + alpha) / total_pos_word_freq\n",
    "        prob_neg = (word_counts_neg.get(word, 0) + alpha) / total_neg_word_freq\n",
    "\n",
    "        if prob_pos > 0:\n",
    "            word_prob_pos = prob_pos\n",
    "        else:\n",
    "            word_prob_pos = 1e-8\n",
    "        log_prob_pos += np.log(word_prob_pos)\n",
    "        \n",
    "        if prob_neg > 0:\n",
    "            word_prob_neg = prob_neg\n",
    "        else:\n",
    "            word_prob_neg = 1e-8\n",
    "        log_prob_neg += np.log(word_prob_neg)\n",
    "    \n",
    "    if(log_prob_pos > log_prob_neg):\n",
    "        return 1\n",
    "    elif(log_prob_neg > log_prob_pos):\n",
    "        return -1\n",
    "    else:\n",
    "        return 2 * np.random.randint(0, 2) - 1"
   ]
  },
  {
   "cell_type": "code",
   "execution_count": 208,
   "metadata": {},
   "outputs": [],
   "source": [
    "def test_multinomial_nb(prior_pos, prior_neg, word_counts_pos, word_counts_neg, pos_test, neg_test, prob_type, vocab, alpha):\n",
    "    total_pos_word_freq = sum(word_counts_pos.values()) + (alpha * len(vocab))\n",
    "    total_neg_word_freq = sum(word_counts_neg.values()) + (alpha * len(vocab))\n",
    "\n",
    "    tp, fp, tn, fn = 0, 0, 0, 0\n",
    "    \n",
    "    # Testing positive reviews\n",
    "    for review in pos_test:\n",
    "        if(prob_type==\"posterior\"):\n",
    "            prediction = test_each_review_posterior(prior_pos, prior_neg, word_counts_pos, word_counts_neg, review, total_pos_word_freq, total_neg_word_freq, alpha)\n",
    "        elif(prob_type==\"log\"):\n",
    "            prediction = test_each_review_log(prior_pos, prior_neg, word_counts_pos, word_counts_neg, review, total_pos_word_freq, total_neg_word_freq, alpha)\n",
    "        if prediction == 1:\n",
    "            tp += 1\n",
    "        else:\n",
    "            fn += 1\n",
    "    \n",
    "    # Testing negative reviews\n",
    "    for review in neg_test:\n",
    "        if(prob_type==\"posterior\"):\n",
    "            prediction = test_each_review_posterior(prior_pos, prior_neg, word_counts_pos, word_counts_neg, review, total_pos_word_freq, total_neg_word_freq, alpha)\n",
    "        elif(prob_type==\"log\"):\n",
    "            prediction = test_each_review_log(prior_pos, prior_neg, word_counts_pos, word_counts_neg, review, total_pos_word_freq, total_neg_word_freq, alpha)\n",
    "        if prediction == -1:\n",
    "            tn += 1\n",
    "        else:\n",
    "            fp += 1\n",
    "    \n",
    "    return tp,tn,fp,fn"
   ]
  },
  {
   "cell_type": "code",
   "execution_count": 209,
   "metadata": {},
   "outputs": [],
   "source": [
    "def train_multinomial_nb(pos_train, neg_train, vocab):\n",
    "    prior_pos, prior_neg = calculate_class_priors(pos_train, neg_train)\n",
    "    word_counts_pos, word_counts_neg = calculate_word_frequencies(pos_train, neg_train, vocab)\n",
    "    \n",
    "    return prior_pos, prior_neg, word_counts_pos, word_counts_neg"
   ]
  },
  {
   "cell_type": "code",
   "execution_count": 210,
   "metadata": {},
   "outputs": [],
   "source": [
    "def calculate_eval_metrics(tp, tn, fp, fn, prob_type, alpha):\n",
    "    confusion_matrix  = [[tp, fp], [tn, fn]]\n",
    "    accuracy = (tn+tp)/(tn+fp+tp+fn)\n",
    "    precision = tp/(tp+fp)\n",
    "    recall = tp/(tp+fn)\n",
    "    \n",
    "    return accuracy, confusion_matrix, precision, recall"
   ]
  },
  {
   "cell_type": "code",
   "execution_count": 211,
   "metadata": {},
   "outputs": [],
   "source": [
    "def startAlgo(train_count_pos, train_count_neg, test_count_pos, test_count_neg, prob_type, alpha):\n",
    "    pos_train, neg_train, vocab = load_training_dataset(train_count_pos, train_count_neg)\n",
    "    pos_test, neg_test = load_testing_dataset(test_count_pos, test_count_neg)\n",
    "\n",
    "    prior_pos, prior_neg,word_counts_pos, word_counts_neg = train_multinomial_nb(pos_train, neg_train, vocab)\n",
    "\n",
    "    tp,tn,fp,fn = test_multinomial_nb(prior_pos, prior_neg, word_counts_pos, word_counts_neg, pos_test, neg_test, prob_type, vocab, alpha)\n",
    "\n",
    "    accuracy, confusion_matrix, precision, recall = calculate_eval_metrics(tp, tn, fp, fn, prob_type, alpha)\n",
    "\n",
    "    return accuracy, confusion_matrix, precision, recall"
   ]
  },
  {
   "cell_type": "code",
   "execution_count": 212,
   "metadata": {},
   "outputs": [],
   "source": [
    "def plot_accuracy_graph(alphas, accuracies):\n",
    "    plt.figure(figsize=(10, 6))\n",
    "    plt.plot(alphas, accuracies, marker='o', linestyle='-', color='b')\n",
    "    plt.xscale('log')\n",
    "    plt.xlabel('Alpha (α)')\n",
    "    plt.ylabel('Accuracy')\n",
    "    plt.title('Accuracy vs. Alpha (Laplace Smoothing Parameter)')\n",
    "    plt.grid(True)\n",
    "    plt.show()"
   ]
  },
  {
   "cell_type": "code",
   "execution_count": 213,
   "metadata": {},
   "outputs": [],
   "source": [
    "def print_data(accuracy, confusion_matrix, precision, recall, prob_type):\n",
    "    print(\"******************RESULTS FOR {} model******************\".format(prob_type))\n",
    "    print(\"Accuracy: \", accuracy)\n",
    "    print(\"Confusion Matrix [[tp, fp], [tn, fn]]: \", confusion_matrix) \n",
    "    print(\"Precision: \", precision)\n",
    "    print(\"Recall: \", recall)"
   ]
  },
  {
   "cell_type": "code",
   "execution_count": 214,
   "metadata": {},
   "outputs": [
    {
     "name": "stdout",
     "output_type": "stream",
     "text": [
      "=====================================Q1=====================================\n"
     ]
    },
    {
     "name": "stdout",
     "output_type": "stream",
     "text": [
      "******************RESULTS FOR posterior model******************\n",
      "Accuracy:  0.5294587577391652\n",
      "Confusion Matrix [[tp, fp], [tn, fn]]:  [[1270, 1180], [1381, 1176]]\n",
      "Precision:  0.5183673469387755\n",
      "Recall:  0.5192150449713818\n",
      "******************RESULTS FOR log model******************\n",
      "Accuracy:  0.7467608951707891\n",
      "Confusion Matrix [[tp, fp], [tn, fn]]:  [[1795, 538], [2009, 752]]\n",
      "Precision:  0.7693956279468496\n",
      "Recall:  0.7047506870828426\n",
      "=====================================Q2=====================================\n",
      "******************RESULTS FOR log model******************\n",
      "Accuracy:  0.8205794205794206\n",
      "Confusion Matrix [[tp, fp], [tn, fn]]:  [[1871, 279], [2236, 619]]\n",
      "Precision:  0.8702325581395349\n",
      "Recall:  0.7514056224899598\n"
     ]
    },
    {
     "data": {
      "image/png": "[encoded data removed]",
      "text/plain": [
       "<Figure size 1000x600 with 1 Axes>"
      ]
     },
     "metadata": {},
     "output_type": "display_data"
    },
    {
     "name": "stdout",
     "output_type": "stream",
     "text": [
      "=====================================Q3=====================================\n",
      "******************RESULTS FOR posterior model******************\n",
      "Accuracy:  0.66264\n",
      "Confusion Matrix [[tp, fp], [tn, fn]]:  [[7878, 3812], [8688, 4622]]\n",
      "Precision:  0.6739093242087254\n",
      "Recall:  0.63024\n",
      "******************RESULTS FOR log model******************\n",
      "Accuracy:  0.83692\n",
      "Confusion Matrix [[tp, fp], [tn, fn]]:  [[9924, 1501], [10999, 2576]]\n",
      "Precision:  0.8686214442013129\n",
      "Recall:  0.79392\n",
      "=====================================Q4=====================================\n",
      "******************RESULTS FOR posterior model******************\n",
      "Accuracy:  0.65864\n",
      "Confusion Matrix [[tp, fp], [tn, fn]]:  [[7818, 3852], [8648, 4682]]\n",
      "Precision:  0.6699228791773779\n",
      "Recall:  0.62544\n",
      "******************RESULTS FOR log model******************\n",
      "Accuracy:  0.83512\n",
      "Confusion Matrix [[tp, fp], [tn, fn]]:  [[9882, 1504], [10996, 2618]]\n",
      "Precision:  0.8679079571403477\n",
      "Recall:  0.79056\n",
      "=====================================Q6=====================================\n",
      "******************RESULTS FOR posterior model******************\n",
      "Accuracy:  0.49892\n",
      "Confusion Matrix [[tp, fp], [tn, fn]]:  [[3231, 3258], [9242, 9269]]\n",
      "Precision:  0.49791955617198336\n",
      "Recall:  0.25848\n",
      "******************RESULTS FOR log model******************\n",
      "Accuracy:  0.5002\n",
      "Confusion Matrix [[tp, fp], [tn, fn]]:  [[6, 1], [12499, 12494]]\n",
      "Precision:  0.8571428571428571\n",
      "Recall:  0.00048\n"
     ]
    }
   ],
   "source": [
    "#Q1\n",
    "print(\"=====================================Q1=====================================\")\n",
    "accuracy, confusion_matrix, precision, recall = startAlgo(0.2, 0.2, 0.2, 0.2, \"posterior\", 0)\n",
    "print_data(accuracy, confusion_matrix, precision, recall, \"posterior\")\n",
    "accuracy, confusion_matrix, precision, recall = startAlgo(0.2, 0.2, 0.2, 0.2, \"log\", 0)\n",
    "print_data(accuracy, confusion_matrix, precision, recall, \"log\")\n",
    "\n",
    "#Q2\n",
    "print(\"=====================================Q2=====================================\")\n",
    "alphas = [0.0001, 0.001, 0.01, 0.1, 1, 10, 100, 1000]\n",
    "accuracies = []\n",
    "for alpha in alphas:\n",
    "    accuracy, confusion_matrix, precision, recall = startAlgo(0.2, 0.2, 0.2, 0.2, \"log\", alpha)\n",
    "    accuracies.append(accuracy)\n",
    "    if(alpha==1):\n",
    "        print_data(accuracy, confusion_matrix, precision, recall, \"log\")\n",
    "plot_accuracy_graph(alphas, accuracies)\n",
    "\n",
    "#Q3\n",
    "print(\"=====================================Q3=====================================\")\n",
    "accuracy, confusion_matrix, precision, recall = startAlgo(1, 1, 1, 1, \"posterior\", 10)\n",
    "print_data(accuracy, confusion_matrix, precision, recall, \"posterior\")\n",
    "accuracy, confusion_matrix, precision, recall = startAlgo(1, 1, 1, 1, \"log\", 10)\n",
    "print_data(accuracy, confusion_matrix, precision, recall, \"log\")\n",
    "\n",
    "#Q4\n",
    "print(\"=====================================Q4=====================================\")\n",
    "accuracy, confusion_matrix, precision, recall = startAlgo(0.5, 0.5, 1, 1, \"posterior\", 10)\n",
    "print_data(accuracy, confusion_matrix, precision, recall, \"posterior\")\n",
    "accuracy, confusion_matrix, precision, recall = startAlgo(0.5, 0.5, 1, 1, \"log\", 10)\n",
    "print_data(accuracy, confusion_matrix, precision, recall, \"log\")\n",
    "\n",
    "#Q6\n",
    "print(\"=====================================Q6=====================================\")\n",
    "accuracy, confusion_matrix, precision, recall = startAlgo(0.1, 0.5, 1, 1, \"posterior\", 10)\n",
    "print_data(accuracy, confusion_matrix, precision, recall, \"posterior\")\n",
    "accuracy, confusion_matrix, precision, recall = startAlgo(0.1, 0.5, 1, 1, \"log\", 10)\n",
    "print_data(accuracy, confusion_matrix, precision, recall, \"log\")"
   ]
  }
 ],
 "metadata": {
  "kernelspec": {
   "display_name": "Python 3",
   "language": "python",
   "name": "python3"
  },
  "language_info": {
   "codemirror_mode": {
    "name": "ipython",
    "version": 3
   },
   "file_extension": ".py",
   "mimetype": "text/x-python",
   "name": "python",
   "nbconvert_exporter": "python",
   "pygments_lexer": "ipython3",
   "version": "3.11.8"
  }
 },
 "nbformat": 4,
 "nbformat_minor": 2
}
